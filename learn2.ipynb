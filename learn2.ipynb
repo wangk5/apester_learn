{
 "cells": [
  {
   "cell_type": "code",
   "execution_count": 33,
   "metadata": {
    "ExecuteTime": {
     "end_time": "2018-06-17T14:26:40.394172Z",
     "start_time": "2018-06-17T14:26:40.385705Z"
    },
    "collapsed": true
   },
   "outputs": [],
   "source": [
    "import numpy as np\n",
    "import pandas as pd\n",
    "import matplotlib.pyplot as plt\n",
    "import sklearn\n",
    "from tqdm import tqdm\n",
    "\n",
    "from sklearn import preprocessing\n",
    "from sklearn.preprocessing import OneHotEncoder"
   ]
  },
  {
   "cell_type": "code",
   "execution_count": 34,
   "metadata": {
    "ExecuteTime": {
     "end_time": "2018-06-17T14:26:44.498278Z",
     "start_time": "2018-06-17T14:26:41.771305Z"
    }
   },
   "outputs": [],
   "source": [
    "df = pd.read_csv(\"/Users/kjwang/Apester/zeev_test_1%2Ftable-000000000000.csv\")\n",
    "df_filter = df[['slide_category','slide_title_translated']]"
   ]
  },
  {
   "cell_type": "code",
   "execution_count": 71,
   "metadata": {
    "ExecuteTime": {
     "end_time": "2018-06-17T14:50:59.839198Z",
     "start_time": "2018-06-17T14:50:59.087896Z"
    }
   },
   "outputs": [],
   "source": [
    "le = preprocessing.LabelEncoder()\n",
    "le_cat = le.fit_transform(df_filter['slide_category'])\n",
    "le_trans = le.fit_transform(df_filter['slide_title_translated'])"
   ]
  },
  {
   "cell_type": "code",
   "execution_count": 72,
   "metadata": {
    "ExecuteTime": {
     "end_time": "2018-06-17T14:51:01.793030Z",
     "start_time": "2018-06-17T14:51:01.788309Z"
    }
   },
   "outputs": [],
   "source": [
    "# le_cat = le_cat.reshape(-1, 1)\n",
    "# le_trans = le_trans.reshape(-1, 1)\n",
    "\n",
    "# hot_cat = enc.fit_transform(le_cat)\n",
    "# hot_trans = enc.fit_transform(le_trans)"
   ]
  },
  {
   "cell_type": "code",
   "execution_count": 78,
   "metadata": {
    "ExecuteTime": {
     "end_time": "2018-06-17T15:02:27.025837Z",
     "start_time": "2018-06-17T15:02:26.953566Z"
    },
    "scrolled": true
   },
   "outputs": [
    {
     "name": "stdout",
     "output_type": "stream",
     "text": [
      "497\n"
     ]
    }
   ],
   "source": [
    "print(len(set(le_cat)))"
   ]
  },
  {
   "cell_type": "code",
   "execution_count": 74,
   "metadata": {
    "ExecuteTime": {
     "end_time": "2018-06-17T14:51:08.851388Z",
     "start_time": "2018-06-17T14:51:08.843535Z"
    }
   },
   "outputs": [
    {
     "name": "stdout",
     "output_type": "stream",
     "text": [
      "[1669 1669 1748 ... 8937 6819 6819]\n"
     ]
    }
   ],
   "source": [
    "print(le_trans)"
   ]
  },
  {
   "cell_type": "code",
   "execution_count": null,
   "metadata": {
    "collapsed": true
   },
   "outputs": [],
   "source": []
  }
 ],
 "metadata": {
  "kernelspec": {
   "display_name": "Python 3",
   "language": "python",
   "name": "python3"
  },
  "language_info": {
   "codemirror_mode": {
    "name": "ipython",
    "version": 3
   },
   "file_extension": ".py",
   "mimetype": "text/x-python",
   "name": "python",
   "nbconvert_exporter": "python",
   "pygments_lexer": "ipython3",
   "version": "3.6.3"
  }
 },
 "nbformat": 4,
 "nbformat_minor": 2
}
