{
 "cells": [
  {
   "cell_type": "code",
   "execution_count": 5,
   "metadata": {
    "ExecuteTime": {
     "end_time": "2018-06-17T13:34:50.591086Z",
     "start_time": "2018-06-17T13:34:45.456637Z"
    }
   },
   "outputs": [
    {
     "name": "stdout",
     "output_type": "stream",
     "text": [
      "Collecting tqdm\n",
      "\u001b[?25l  Downloading https://files.pythonhosted.org/packages/93/24/6ab1df969db228aed36a648a8959d1027099ce45fad67532b9673d533318/tqdm-4.23.4-py2.py3-none-any.whl (42kB)\n",
      "\u001b[K    100% |████████████████████████████████| 51kB 83kB/s ta 0:00:0101\n",
      "\u001b[?25hInstalling collected packages: tqdm\n",
      "Successfully installed tqdm-4.23.4\n"
     ]
    }
   ],
   "source": [
    "!pip install tqdm"
   ]
  },
  {
   "cell_type": "code",
   "execution_count": 6,
   "metadata": {
    "ExecuteTime": {
     "end_time": "2018-06-17T13:34:52.726860Z",
     "start_time": "2018-06-17T13:34:52.706333Z"
    }
   },
   "outputs": [
    {
     "name": "stdout",
     "output_type": "stream",
     "text": [
      "[nltk_data] Downloading package punkt to /Users/kjwang/nltk_data...\n",
      "[nltk_data]   Package punkt is already up-to-date!\n"
     ]
    }
   ],
   "source": [
    "import numpy as np\n",
    "import pandas as pd\n",
    "import matplotlib.pyplot as plt\n",
    "from tqdm import tqdm\n",
    "\n",
    "import nltk\n",
    "nltk.download('punkt')\n",
    "from nltk.tokenize import word_tokenize"
   ]
  },
  {
   "cell_type": "code",
   "execution_count": 7,
   "metadata": {
    "ExecuteTime": {
     "end_time": "2018-06-17T13:34:57.390815Z",
     "start_time": "2018-06-17T13:34:54.816639Z"
    },
    "collapsed": true,
    "scrolled": true
   },
   "outputs": [],
   "source": [
    "df = pd.read_csv(\"/Users/kjwang/Apester/zeev_test_1%2Ftable-000000000000.csv\")\n",
    "df_q = df[['Slide_Title']] "
   ]
  },
  {
   "cell_type": "code",
   "execution_count": 10,
   "metadata": {
    "ExecuteTime": {
     "end_time": "2018-06-17T13:39:19.145530Z",
     "start_time": "2018-06-17T13:37:20.936593Z"
    }
   },
   "outputs": [
    {
     "name": "stderr",
     "output_type": "stream",
     "text": [
      "478676it [01:58, 4050.01it/s]\n"
     ]
    }
   ],
   "source": [
    "wordCount=np.array([])\n",
    "for index, row in tqdm(df_q.iterrows()):\n",
    "    q = row[\"Slide_Title\"]\n",
    "    #I love      pizza  \n",
    "    tokens = nltk.word_tokenize(q)\n",
    "    numW = len(tokens)\n",
    "    \n",
    "    if wordCount.shape[0] < numW:\n",
    "        wordCount.resize(numW+1)\n",
    "        \n",
    "    wordCount[numW] += 1"
   ]
  },
  {
   "cell_type": "code",
   "execution_count": 12,
   "metadata": {
    "ExecuteTime": {
     "end_time": "2018-06-17T13:39:26.936963Z",
     "start_time": "2018-06-17T13:39:26.687586Z"
    }
   },
   "outputs": [
    {
     "data": {
      "image/png": "[encoded data removed]",
      "text/plain": [
       "<Figure size 432x288 with 1 Axes>"
      ]
     },
     "metadata": {},
     "output_type": "display_data"
    }
   ],
   "source": [
    "y = wordCount\n",
    "x = np.arange(wordCount.shape[0])\n",
    "width = 1/1.5\n",
    "\n",
    "plt.bar(x, y, width, color=\"blue\")\n",
    "plt.show()"
   ]
  },
  {
   "cell_type": "markdown",
   "metadata": {
    "ExecuteTime": {
     "end_time": "2018-06-17T13:46:36.581270Z",
     "start_time": "2018-06-17T13:46:36.577458Z"
    }
   },
   "source": [
    "# table vizualization"
   ]
  },
  {
   "cell_type": "markdown",
   "metadata": {
    "ExecuteTime": {
     "end_time": "2018-06-17T13:47:24.036531Z",
     "start_time": "2018-06-17T13:47:24.032701Z"
    }
   },
   "source": [
    "## bls bls "
   ]
  },
  {
   "cell_type": "code",
   "execution_count": 13,
   "metadata": {
    "ExecuteTime": {
     "end_time": "2018-06-17T13:41:53.995194Z",
     "start_time": "2018-06-17T13:41:53.967030Z"
    }
   },
   "outputs": [
    {
     "data": {
      "text/html": [
       "<div>\n",
       "<style>\n",
       "    .dataframe thead tr:only-child th {\n",
       "        text-align: right;\n",
       "    }\n",
       "\n",
       "    .dataframe thead th {\n",
       "        text-align: left;\n",
       "    }\n",
       "\n",
       "    .dataframe tbody tr th {\n",
       "        vertical-align: top;\n",
       "    }\n",
       "</style>\n",
       "<table border=\"1\" class=\"dataframe\">\n",
       "  <thead>\n",
       "    <tr style=\"text-align: right;\">\n",
       "      <th></th>\n",
       "      <th>timestamp</th>\n",
       "      <th>Session_Id</th>\n",
       "      <th>Consumer_Session_Id</th>\n",
       "      <th>Slide_Id</th>\n",
       "      <th>Slide_Title</th>\n",
       "      <th>Interaction_Id</th>\n",
       "      <th>Answer_Id</th>\n",
       "      <th>Answer_Value</th>\n",
       "      <th>slide_category</th>\n",
       "      <th>answer_pattern</th>\n",
       "      <th>question_pattern</th>\n",
       "      <th>slide_title_translated</th>\n",
       "    </tr>\n",
       "  </thead>\n",
       "  <tbody>\n",
       "    <tr>\n",
       "      <th>0</th>\n",
       "      <td>2018-05-02 02:27:10 UTC</td>\n",
       "      <td>e716344f-3a15-43ac-aeb4-c3161c9cb23e</td>\n",
       "      <td>e3fe9785-f7ac-45c4-8f9b-433f534b5a0a</td>\n",
       "      <td>5a0d7f0e66009b00014172e2</td>\n",
       "      <td>Onde você comprará o seu vestido?</td>\n",
       "      <td>5a0d7f0e66009b00014172e5</td>\n",
       "      <td>5e2d23b6-b2c6-47eb-8a67-240a86a86d19</td>\n",
       "      <td>Em uma loja</td>\n",
       "      <td>/Shopping/Apparel/Women's Clothing</td>\n",
       "      <td>UNMATCHED</td>\n",
       "      <td>UNKNOWN</td>\n",
       "      <td>Do?</td>\n",
       "    </tr>\n",
       "    <tr>\n",
       "      <th>1</th>\n",
       "      <td>2018-05-15 20:09:40 UTC</td>\n",
       "      <td>8c508765-9ebb-4606-a73d-376b1187cc25</td>\n",
       "      <td>b79bdcc6-eced-44a6-80a3-1b404115baa3</td>\n",
       "      <td>5a0d7f0e66009b00014172e2</td>\n",
       "      <td>Onde você comprará o seu vestido?</td>\n",
       "      <td>5a0d7f0e66009b00014172e5</td>\n",
       "      <td>9ad4cd3b-0241-48b0-b3af-7609cba6b05f</td>\n",
       "      <td>Comprarei pela internet</td>\n",
       "      <td>/Shopping/Apparel/Women's Clothing</td>\n",
       "      <td>UNMATCHED</td>\n",
       "      <td>UNKNOWN</td>\n",
       "      <td>Do?</td>\n",
       "    </tr>\n",
       "    <tr>\n",
       "      <th>2</th>\n",
       "      <td>2018-05-27 17:16:50 UTC</td>\n",
       "      <td>adbeb564-2e6b-4651-8676-23cded1e78be</td>\n",
       "      <td>73d1b770-a274-4d08-b4cb-303d5e14f3c8</td>\n",
       "      <td>59ea1fbb27e86f0001307e52</td>\n",
       "      <td>Welcher Comic-Held ist dein Idol?</td>\n",
       "      <td>59e8d1506b5d7200019f880e</td>\n",
       "      <td>56776bef-92b0-4424-a19a-6099f389a126</td>\n",
       "      <td>Captain America</td>\n",
       "      <td>/Law &amp; Government/Legal</td>\n",
       "      <td>UNMATCHED</td>\n",
       "      <td>UNKNOWN</td>\n",
       "      <td>Dol?</td>\n",
       "    </tr>\n",
       "    <tr>\n",
       "      <th>3</th>\n",
       "      <td>2018-05-19 13:22:10 UTC</td>\n",
       "      <td>f4a7e8d8-8823-42d5-91bc-9b4d3161a750</td>\n",
       "      <td>1c902950-fa70-45f1-ba1e-e6d639502860</td>\n",
       "      <td>59ea1fbb27e86f0001307e52</td>\n",
       "      <td>Welcher Comic-Held ist dein Idol?</td>\n",
       "      <td>59e8d1506b5d7200019f880e</td>\n",
       "      <td>d0e4a2fd-690b-42e0-9f70-b8f3c32e9e5b</td>\n",
       "      <td>Doctor Strange</td>\n",
       "      <td>/Law &amp; Government/Legal</td>\n",
       "      <td>UNMATCHED</td>\n",
       "      <td>UNKNOWN</td>\n",
       "      <td>Dol?</td>\n",
       "    </tr>\n",
       "    <tr>\n",
       "      <th>4</th>\n",
       "      <td>2018-05-29 01:53:00 UTC</td>\n",
       "      <td>c06867d7-1056-4cac-bd06-fb5023635f93</td>\n",
       "      <td>8382a4b0-c927-4a09-bc01-cc921628b2c5</td>\n",
       "      <td>5a0d7f0e66009b00014172e3</td>\n",
       "      <td>Quais lembrancinhas serão dadas aos convidados?</td>\n",
       "      <td>5a0d7f0e66009b00014172e5</td>\n",
       "      <td>76dca43c-ceaf-459e-b0b6-d693aad5acc9</td>\n",
       "      <td>Serão lembrancinhas DIY feitas por nós</td>\n",
       "      <td>/Hobbies &amp; Leisure/Special Occasions</td>\n",
       "      <td>UNMATCHED</td>\n",
       "      <td>UNKNOWN</td>\n",
       "      <td>Dos?</td>\n",
       "    </tr>\n",
       "  </tbody>\n",
       "</table>\n",
       "</div>"
      ],
      "text/plain": [
       "                 timestamp                            Session_Id  \\\n",
       "0  2018-05-02 02:27:10 UTC  e716344f-3a15-43ac-aeb4-c3161c9cb23e   \n",
       "1  2018-05-15 20:09:40 UTC  8c508765-9ebb-4606-a73d-376b1187cc25   \n",
       "2  2018-05-27 17:16:50 UTC  adbeb564-2e6b-4651-8676-23cded1e78be   \n",
       "3  2018-05-19 13:22:10 UTC  f4a7e8d8-8823-42d5-91bc-9b4d3161a750   \n",
       "4  2018-05-29 01:53:00 UTC  c06867d7-1056-4cac-bd06-fb5023635f93   \n",
       "\n",
       "                    Consumer_Session_Id                  Slide_Id  \\\n",
       "0  e3fe9785-f7ac-45c4-8f9b-433f534b5a0a  5a0d7f0e66009b00014172e2   \n",
       "1  b79bdcc6-eced-44a6-80a3-1b404115baa3  5a0d7f0e66009b00014172e2   \n",
       "2  73d1b770-a274-4d08-b4cb-303d5e14f3c8  59ea1fbb27e86f0001307e52   \n",
       "3  1c902950-fa70-45f1-ba1e-e6d639502860  59ea1fbb27e86f0001307e52   \n",
       "4  8382a4b0-c927-4a09-bc01-cc921628b2c5  5a0d7f0e66009b00014172e3   \n",
       "\n",
       "                                       Slide_Title            Interaction_Id  \\\n",
       "0                Onde você comprará o seu vestido?  5a0d7f0e66009b00014172e5   \n",
       "1                Onde você comprará o seu vestido?  5a0d7f0e66009b00014172e5   \n",
       "2                Welcher Comic-Held ist dein Idol?  59e8d1506b5d7200019f880e   \n",
       "3                Welcher Comic-Held ist dein Idol?  59e8d1506b5d7200019f880e   \n",
       "4  Quais lembrancinhas serão dadas aos convidados?  5a0d7f0e66009b00014172e5   \n",
       "\n",
       "                              Answer_Id  \\\n",
       "0  5e2d23b6-b2c6-47eb-8a67-240a86a86d19   \n",
       "1  9ad4cd3b-0241-48b0-b3af-7609cba6b05f   \n",
       "2  56776bef-92b0-4424-a19a-6099f389a126   \n",
       "3  d0e4a2fd-690b-42e0-9f70-b8f3c32e9e5b   \n",
       "4  76dca43c-ceaf-459e-b0b6-d693aad5acc9   \n",
       "\n",
       "                             Answer_Value  \\\n",
       "0                             Em uma loja   \n",
       "1                 Comprarei pela internet   \n",
       "2                         Captain America   \n",
       "3                          Doctor Strange   \n",
       "4  Serão lembrancinhas DIY feitas por nós   \n",
       "\n",
       "                         slide_category answer_pattern question_pattern  \\\n",
       "0    /Shopping/Apparel/Women's Clothing      UNMATCHED          UNKNOWN   \n",
       "1    /Shopping/Apparel/Women's Clothing      UNMATCHED          UNKNOWN   \n",
       "2               /Law & Government/Legal      UNMATCHED          UNKNOWN   \n",
       "3               /Law & Government/Legal      UNMATCHED          UNKNOWN   \n",
       "4  /Hobbies & Leisure/Special Occasions      UNMATCHED          UNKNOWN   \n",
       "\n",
       "  slide_title_translated  \n",
       "0                    Do?  \n",
       "1                    Do?  \n",
       "2                   Dol?  \n",
       "3                   Dol?  \n",
       "4                   Dos?  "
      ]
     },
     "execution_count": 13,
     "metadata": {},
     "output_type": "execute_result"
    }
   ],
   "source": [
    "df.head()"
   ]
  },
  {
   "cell_type": "code",
   "execution_count": null,
   "metadata": {
    "collapsed": true
   },
   "outputs": [],
   "source": []
  }
 ],
 "metadata": {
  "kernelspec": {
   "display_name": "Python 3",
   "language": "python",
   "name": "python3"
  },
  "language_info": {
   "codemirror_mode": {
    "name": "ipython",
    "version": 3
   },
   "file_extension": ".py",
   "mimetype": "text/x-python",
   "name": "python",
   "nbconvert_exporter": "python",
   "pygments_lexer": "ipython3",
   "version": "3.6.3"
  }
 },
 "nbformat": 4,
 "nbformat_minor": 2
}
